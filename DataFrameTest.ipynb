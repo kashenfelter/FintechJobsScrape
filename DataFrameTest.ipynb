{
 "cells": [
  {
   "cell_type": "code",
   "execution_count": 18,
   "metadata": {},
   "outputs": [
    {
     "name": "stdout",
     "output_type": "stream",
     "text": [
      "      Institution  Job No  List Id {1,2,3}  List id (1,2,3)  \\\n",
      "0  Charles Schwab       1                1                1   \n",
      "\n",
      "  URL (URL of the job posting)  1  2  3  4  5 ...   91  92  93  94  95  96  \\\n",
      "0                         page  0  0  0  0  0 ...    0   0   0   0   0   0   \n",
      "\n",
      "   97  98  99  100  \n",
      "0   0   0   0    0  \n",
      "\n",
      "[1 rows x 105 columns]\n"
     ]
    }
   ],
   "source": [
    "import pandas as pd\n",
    "\n",
    "def initialise_dataframe():\n",
    "    headers = [\"Job No\", \"Institution\", \"List Id {1,2,3}\", \"URL (URL of the job posting)\", \"List id (1,2,3)\"]\n",
    "    headers.extend(range(1, 101))  \n",
    "    values = [1, \"Charles Schwab\", 1, \"page\", 1]\n",
    "    values.extend([0] * 100)\n",
    "    frame = pd.DataFrame([dict(zip(headers, values))])\n",
    "    print(frame)\n",
    "\n",
    "\n",
    "if __name__ == '__main__':\n",
    "    initialise_dataframe()"
   ]
  },
  {
   "cell_type": "code",
   "execution_count": null,
   "metadata": {},
   "outputs": [],
   "source": []
  }
 ],
 "metadata": {
  "kernelspec": {
   "display_name": "Python 3",
   "language": "python",
   "name": "python3"
  },
  "language_info": {
   "codemirror_mode": {
    "name": "ipython",
    "version": 3
   },
   "file_extension": ".py",
   "mimetype": "text/x-python",
   "name": "python",
   "nbconvert_exporter": "python",
   "pygments_lexer": "ipython3",
   "version": "3.7.1"
  }
 },
 "nbformat": 4,
 "nbformat_minor": 2
}
