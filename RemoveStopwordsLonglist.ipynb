{
 "cells": [
  {
   "cell_type": "code",
   "execution_count": 4,
   "metadata": {},
   "outputs": [],
   "source": [
    "import string\n",
    "import csv\n",
    "import collections\n",
    "import nltk\n",
    "from nltk.corpus import stopwords\n",
    "import operator\n",
    "from collections import OrderedDict\n",
    "\n",
    "enc = 'utf-8'\n",
    "with open('stopword_file.csv', 'r', encoding = enc) as f:\n",
    "    reader = csv.reader(f)\n",
    "    keywords = list(reader)\n",
    "english_stops = [i[0] for i in keywords]\n",
    "#print ( english_stops)\n",
    "lemmatizer = nltk.stem.WordNetLemmatizer()\n",
    "\n",
    "def clean_tokens(tokens):\n",
    "    \"\"\" Lowercases, takes out punct and stopwords and short strings \"\"\"\n",
    "    return [token.lower() for token in tokens if (token not in string.punctuation) and\n",
    "               \t(token.lower() not in english_stops) and len(token) > 2]\n",
    "\n",
    "\n",
    "file = open('Doc4', 'r',encoding=enc)\n",
    "text = file.read()\n",
    "tokens = nltk.word_tokenize(text)\n",
    "cleanTokens = clean_tokens(tokens)\n",
    "\n",
    "finalClean = open('finalCleaned', 'w', encoding = enc)\n",
    "\n",
    "wordcount = {}\n",
    "for tok in cleanTokens:\n",
    "    finalClean.write(tok)\n",
    "    if tok not in wordcount:\n",
    "        wordcount[tok] = 1\n",
    "    else:\n",
    "        wordcount[tok] += 1\n",
    "\n",
    "sorted_wordCount = OrderedDict(sorted(wordcount.items(), key=operator.itemgetter(1), reverse=True)) \n",
    "    \n",
    "\n",
    "enc = 'utf-8'\n",
    "with open('freq.csv', 'w', encoding = enc) as f:\n",
    "    for key in sorted_wordCount.keys():\n",
    "        f.write(\"%s,\\n\"%(key))\n"
   ]
  },
  {
   "cell_type": "code",
   "execution_count": null,
   "metadata": {},
   "outputs": [],
   "source": []
  }
 ],
 "metadata": {
  "kernelspec": {
   "display_name": "Python 3",
   "language": "python",
   "name": "python3"
  },
  "language_info": {
   "codemirror_mode": {
    "name": "ipython",
    "version": 3
   },
   "file_extension": ".py",
   "mimetype": "text/x-python",
   "name": "python",
   "nbconvert_exporter": "python",
   "pygments_lexer": "ipython3",
   "version": "3.7.1"
  }
 },
 "nbformat": 4,
 "nbformat_minor": 2
}
