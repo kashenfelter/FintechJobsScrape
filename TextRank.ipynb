{
 "cells": [
  {
   "cell_type": "code",
   "execution_count": null,
   "metadata": {},
   "outputs": [],
   "source": [
    "import pytextrank\n",
    "import sys\n",
    "import json\n",
    "\n",
    "# Stage 1:\n",
    "enc = 'utf-8'\n",
    "file = open('Doc4', 'r',encoding=enc)\n",
    "sample_text = file.read()\n",
    "\n",
    "#sample_text = 'I Like Flipkart. He likes Amazone. she likes Snapdeal. Flipkart and amazone is on top of google search.'\n",
    "\n",
    "# Create dictionary to feed into json file\n",
    "\n",
    "file_dic = {\"id\" : 0,\"text\" : sample_text}\n",
    "file_dic = json.dumps(file_dic)\n",
    "\n",
    "loaded_file_dic = json.loads(file_dic)\n",
    "\n",
    "# Create test.json and feed file_dic into it.\n",
    "with open('test.json', 'w') as outfile:\n",
    "    json.dump(loaded_file_dic, outfile)\n",
    "\n",
    "path_stage0 = \"test.json\"\n",
    "path_stage1 = \"o1.json\"\n",
    "\n",
    "with open(path_stage1, 'w') as f:\n",
    "\tfor graf in pytextrank.parse_doc(pytextrank.json_iter(path_stage0)):\n",
    "    \tf.write(\"%s\\n\" % pytextrank.pretty_print(graf._asdict()))\n",
    "    \tprint(pytextrank.pretty_print(graf._asdict()))\n",
    "\n",
    "# Stage 2 extract keywords\n",
    "path_stage1 = \"o1.json\"\n",
    "path_stage2 = \"o2.json\"\n",
    "\n",
    "graph, ranks = pytextrank.text_rank(path_stage1)\n",
    "pytextrank.render_ranks(graph, ranks)\n",
    "\n",
    "with open(path_stage2, 'w') as f:\n",
    "\tfor rl in pytextrank.normalize_key_phrases(path_stage1, ranks):\n",
    "    \tf.write(\"%s\\n\" % pytextrank.pretty_print(rl._asdict()))\n",
    "    \tprint(pytextrank.pretty_print(rl))\n"
   ]
  }
 ],
 "metadata": {
  "kernelspec": {
   "display_name": "Python 3",
   "language": "python",
   "name": "python3"
  },
  "language_info": {
   "codemirror_mode": {
    "name": "ipython",
    "version": 3
   },
   "file_extension": ".py",
   "mimetype": "text/x-python",
   "name": "python",
   "nbconvert_exporter": "python",
   "pygments_lexer": "ipython3",
   "version": "3.7.1"
  }
 },
 "nbformat": 4,
 "nbformat_minor": 2
}
