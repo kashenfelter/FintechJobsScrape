{
 "cells": [
  {
   "cell_type": "code",
   "execution_count": 6,
   "metadata": {},
   "outputs": [
    {
     "name": "stdout",
     "output_type": "stream",
     "text": [
      "/ListJobs/ByCustom/Schwab-Job-Category/Keyword-Accounting-Finance/\n",
      "/ListJobs/ByCustom/Schwab-Job-Category/Keyword-Administrative-Clerical/\n",
      "/ListJobs/ByCustom/Schwab-Job-Category/Keyword-Banking/\n",
      "/ListJobs/ByCustom/Schwab-Job-Category/Keyword-Brokerage-Operations---Trading/\n",
      "/ListJobs/ByCustom/Schwab-Job-Category/Keyword-Business-Strategy/\n",
      "/ListJobs/ByCustom/Schwab-Job-Category/Keyword-Campus-Programs-Internships/\n",
      "/ListJobs/ByCustom/Schwab-Job-Category/Keyword-Compliance-Legal-Regulatory/\n",
      "/ListJobs/ByCustom/Schwab-Job-Category/Keyword-Customer-Service-Client-Service/\n",
      "/ListJobs/ByCustom/Schwab-Job-Category/Keyword-Digital-Services/\n",
      "/ListJobs/ByCustom/Schwab-Job-Category/Keyword-Facilities-Real-Estate/\n",
      "/ListJobs/ByCustom/Schwab-Job-Category/Keyword-Financial-Consultant/\n",
      "/ListJobs/ByCustom/Schwab-Job-Category/Keyword-Financial-Planning-Advice/\n",
      "/ListJobs/ByCustom/Schwab-Job-Category/Keyword-Human-Resources-Training-Recruiting/\n",
      "/ListJobs/ByCustom/Schwab-Job-Category/Keyword-Information-Technology/\n",
      "/ListJobs/ByCustom/Schwab-Job-Category/Keyword-Internal-Audit/\n",
      "/ListJobs/ByCustom/Schwab-Job-Category/Keyword-Investment-Management---Research/\n",
      "/ListJobs/ByCustom/Schwab-Job-Category/Keyword-Management/\n",
      "/ListJobs/ByCustom/Schwab-Job-Category/Keyword-Marketing-Analytics/\n",
      "/ListJobs/ByCustom/Schwab-Job-Category/Keyword-Marketing-Advertising/\n",
      "/ListJobs/ByCustom/Schwab-Job-Category/Keyword-Product-Development/\n",
      "/ListJobs/ByCustom/Schwab-Job-Category/Keyword-Project-Program-Management/\n",
      "/ListJobs/ByCustom/Schwab-Job-Category/Keyword-Retirement-Services/\n",
      "/ListJobs/ByCustom/Schwab-Job-Category/Keyword-Risk-Management/\n",
      "/ListJobs/ByCustom/Schwab-Job-Category/Keyword-Sales-Business-Development/\n",
      "/ListJobs/ByCustom/Schwab-Job-Category/Keyword-Stock-Plan-Services/\n"
     ]
    }
   ],
   "source": [
    "from bs4 import BeautifulSoup\n",
    "from urllib.request import urlopen\n",
    "import re\n",
    " \n",
    "def get_website_info(response):\n",
    "        bs_obj = BeautifulSoup(response, \"html.parser\")\n",
    "        if bs_obj:\n",
    "            all_pages = bs_obj.find_all(\"table\",{\"class\": \"list-categores-table\"})\n",
    "            \n",
    "            links = set()\n",
    "            for page in all_pages:\n",
    "                linkTags = page.find_all('a', attrs={'href': re.compile(\"/ListJobs\")})\n",
    "                for tag in linkTags:\n",
    "                    link = tag.get('href')\n",
    "                    print(link)\n",
    "                \n",
    "if __name__ == '__main__':\n",
    "    res = urlopen(\"https://www.schwabjobs.com/List/Custom/Schwab-Job-Category\")\n",
    "    get_website_info(res)"
   ]
  },
  {
   "cell_type": "code",
   "execution_count": null,
   "metadata": {},
   "outputs": [],
   "source": [
    "from bs4 import BeautifulSoup\n",
    "from urllib.request import urlopen\n",
    "import re\n",
    " \n",
    "def get_website_info(response):\n",
    "        bs_obj = BeautifulSoup(response, \"html.parser\")\n",
    "        if bs_obj:\n",
    "            all_pages = bs_obj.find_all(\"table\",{\"class\": \"list-categores-table\"})\n",
    "            \n",
    "            links = set()\n",
    "            for page in all_pages:\n",
    "                linkTags = page.find_all('a', attrs={'href': re.compile(\"/ListJobs\")})\n",
    "                for tag in linkTags:\n",
    "                    link = tag.get('href')\n",
    "                    print(link)\n",
    "                \n",
    "if __name__ == '__main__':\n",
    "    res = urlopen(\"https://www.schwabjobs.com/List/Custom/Schwab-Job-Category\")\n",
    "    get_website_info(res)"
   ]
  }
 ],
 "metadata": {
  "kernelspec": {
   "display_name": "Python 3",
   "language": "python",
   "name": "python3"
  },
  "language_info": {
   "codemirror_mode": {
    "name": "ipython",
    "version": 3
   },
   "file_extension": ".py",
   "mimetype": "text/x-python",
   "name": "python",
   "nbconvert_exporter": "python",
   "pygments_lexer": "ipython3",
   "version": "3.7.1"
  }
 },
 "nbformat": 4,
 "nbformat_minor": 2
}
