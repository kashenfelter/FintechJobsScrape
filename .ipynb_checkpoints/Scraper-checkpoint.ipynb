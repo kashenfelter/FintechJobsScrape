{
 "cells": [
  {
   "cell_type": "code",
   "execution_count": 8,
   "metadata": {},
   "outputs": [
    {
     "name": "stdout",
     "output_type": "stream",
     "text": [
      "Collecting urllib2\n"
     ]
    },
    {
     "name": "stderr",
     "output_type": "stream",
     "text": [
      "  Could not find a version that satisfies the requirement urllib2 (from versions: )\n",
      "No matching distribution found for urllib2\n"
     ]
    }
   ],
   "source": [
    "! pip install urllib2"
   ]
  },
  {
   "cell_type": "code",
   "execution_count": 58,
   "metadata": {},
   "outputs": [
    {
     "name": "stdout",
     "output_type": "stream",
     "text": [
      "FINRA Series 66, Life Insurance, FINRA Series 7\n"
     ]
    }
   ],
   "source": [
    "from bs4 import BeautifulSoup\n",
    "import urllib.request as urllib2\n",
    "import re\n",
    " \n",
    "html_page = urllib2.urlopen(\"https://www.schwabjobs.com/ListJobs/ByCustom/Schwab-Job-Category/Keyword-Financial-Consultant/\")\n",
    "\n",
    "soup = BeautifulSoup(html_page)\n",
    "table = soup.find('table', 'JobListTable')\n",
    "joblinks = []\n",
    "for link in table.findAll('a', attrs={'href': re.compile(\"/ShowJob\")}):\n",
    "    jobLinks.append(link.get('href'))\n",
    "\n",
    "    \n",
    "s = \"https://www.schwabjobs.com/\" + jobLinks[0].get('href')\n",
    "posting = urllib2.urlopen(s)\n",
    "\n",
    "soup2 =  BeautifulSoup(posting)\n",
    "\n",
    "value = soup2.findAll(class_='value')\n",
    "for val in value:\n",
    "      if(\"Insurance\" in val.text):\n",
    "        print(val.text)"
   ]
  },
  {
   "cell_type": "code",
   "execution_count": null,
   "metadata": {},
   "outputs": [],
   "source": []
  },
  {
   "cell_type": "code",
   "execution_count": null,
   "metadata": {},
   "outputs": [],
   "source": []
  }
 ],
 "metadata": {
  "kernelspec": {
   "display_name": "Python 3",
   "language": "python",
   "name": "python3"
  },
  "language_info": {
   "codemirror_mode": {
    "name": "ipython",
    "version": 3
   },
   "file_extension": ".py",
   "mimetype": "text/x-python",
   "name": "python",
   "nbconvert_exporter": "python",
   "pygments_lexer": "ipython3",
   "version": "3.7.1"
  }
 },
 "nbformat": 4,
 "nbformat_minor": 2
}
