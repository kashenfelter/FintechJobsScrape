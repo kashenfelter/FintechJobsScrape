{
 "cells": [
  {
   "cell_type": "code",
   "execution_count": null,
   "metadata": {},
   "outputs": [],
   "source": [
    "from bs4 import BeautifulSoup\n",
    "from urllib.request import urlopen\n",
    " \n",
    "def get_website_info(response):\n",
    "        bs_obj = BeautifulSoup(response, \"html.parser\")\n",
    "        if bs_obj:\n",
    "            all_pages = bs_obj.find_all(\"table\",{\"class\": \"list-categores-table\"})\n",
    "            \n",
    "            links = set()\n",
    "            for page in all_pages:\n",
    "                linkTags = page.find_all('a', attrs={'href': re.compile(\"/ListJobs\")})\n",
    "                for tag in linkTags:\n",
    "                    link = tag.get('href')\n",
    "                    print(link)\n",
    "                \n",
    "if _name_ == \"_main_\":\n",
    "    res = urlopen(\"https://www.schwabjobs.com/List/Custom/Schwab-Job-Category\")\n",
    "    get_website_info(res)"
   ]
  }
 ],
 "metadata": {
  "kernelspec": {
   "display_name": "Python 3",
   "language": "python",
   "name": "python3"
  },
  "language_info": {
   "codemirror_mode": {
    "name": "ipython",
    "version": 3
   },
   "file_extension": ".py",
   "mimetype": "text/x-python",
   "name": "python",
   "nbconvert_exporter": "python",
   "pygments_lexer": "ipython3",
   "version": "3.7.1"
  }
 },
 "nbformat": 4,
 "nbformat_minor": 2
}
